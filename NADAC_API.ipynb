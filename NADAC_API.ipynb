{
 "cells": [
  {
   "cell_type": "code",
   "execution_count": 1,
   "id": "78f5b684",
   "metadata": {},
   "outputs": [
    {
     "name": "stdout",
     "output_type": "stream",
     "text": [
      "Requirement already satisfied: requests in /Users/ethantiao/miniforge3/envs/cs224n/lib/python3.11/site-packages (2.31.0)\n",
      "Requirement already satisfied: charset-normalizer<4,>=2 in /Users/ethantiao/miniforge3/envs/cs224n/lib/python3.11/site-packages (from requests) (2.0.4)\n",
      "Requirement already satisfied: idna<4,>=2.5 in /Users/ethantiao/miniforge3/envs/cs224n/lib/python3.11/site-packages (from requests) (3.4)\n",
      "Requirement already satisfied: urllib3<3,>=1.21.1 in /Users/ethantiao/miniforge3/envs/cs224n/lib/python3.11/site-packages (from requests) (1.26.18)\n",
      "Requirement already satisfied: certifi>=2017.4.17 in /Users/ethantiao/miniforge3/envs/cs224n/lib/python3.11/site-packages (from requests) (2023.11.17)\n",
      "Requirement already satisfied: pandas in /Users/ethantiao/miniforge3/envs/cs224n/lib/python3.11/site-packages (2.2.3)\n",
      "Requirement already satisfied: numpy>=1.23.2 in /Users/ethantiao/miniforge3/envs/cs224n/lib/python3.11/site-packages (from pandas) (1.26.3)\n",
      "Requirement already satisfied: python-dateutil>=2.8.2 in /Users/ethantiao/miniforge3/envs/cs224n/lib/python3.11/site-packages (from pandas) (2.8.2)\n",
      "Requirement already satisfied: pytz>=2020.1 in /Users/ethantiao/miniforge3/envs/cs224n/lib/python3.11/site-packages (from pandas) (2023.3.post1)\n",
      "Requirement already satisfied: tzdata>=2022.7 in /Users/ethantiao/miniforge3/envs/cs224n/lib/python3.11/site-packages (from pandas) (2024.2)\n",
      "Requirement already satisfied: six>=1.5 in /Users/ethantiao/miniforge3/envs/cs224n/lib/python3.11/site-packages (from python-dateutil>=2.8.2->pandas) (1.16.0)\n",
      "Requirement already satisfied: numpy in /Users/ethantiao/miniforge3/envs/cs224n/lib/python3.11/site-packages (1.26.3)\n",
      "Requirement already satisfied: seaborn in /Users/ethantiao/miniforge3/envs/cs224n/lib/python3.11/site-packages (0.13.2)\n",
      "Requirement already satisfied: numpy!=1.24.0,>=1.20 in /Users/ethantiao/miniforge3/envs/cs224n/lib/python3.11/site-packages (from seaborn) (1.26.3)\n",
      "Requirement already satisfied: pandas>=1.2 in /Users/ethantiao/miniforge3/envs/cs224n/lib/python3.11/site-packages (from seaborn) (2.2.3)\n",
      "Requirement already satisfied: matplotlib!=3.6.1,>=3.4 in /Users/ethantiao/miniforge3/envs/cs224n/lib/python3.11/site-packages (from seaborn) (3.8.0)\n",
      "Requirement already satisfied: contourpy>=1.0.1 in /Users/ethantiao/miniforge3/envs/cs224n/lib/python3.11/site-packages (from matplotlib!=3.6.1,>=3.4->seaborn) (1.2.0)\n",
      "Requirement already satisfied: cycler>=0.10 in /Users/ethantiao/miniforge3/envs/cs224n/lib/python3.11/site-packages (from matplotlib!=3.6.1,>=3.4->seaborn) (0.11.0)\n",
      "Requirement already satisfied: fonttools>=4.22.0 in /Users/ethantiao/miniforge3/envs/cs224n/lib/python3.11/site-packages (from matplotlib!=3.6.1,>=3.4->seaborn) (4.25.0)\n",
      "Requirement already satisfied: kiwisolver>=1.0.1 in /Users/ethantiao/miniforge3/envs/cs224n/lib/python3.11/site-packages (from matplotlib!=3.6.1,>=3.4->seaborn) (1.4.4)\n",
      "Requirement already satisfied: packaging>=20.0 in /Users/ethantiao/miniforge3/envs/cs224n/lib/python3.11/site-packages (from matplotlib!=3.6.1,>=3.4->seaborn) (23.1)\n",
      "Requirement already satisfied: pillow>=6.2.0 in /Users/ethantiao/miniforge3/envs/cs224n/lib/python3.11/site-packages (from matplotlib!=3.6.1,>=3.4->seaborn) (10.0.1)\n",
      "Requirement already satisfied: pyparsing>=2.3.1 in /Users/ethantiao/miniforge3/envs/cs224n/lib/python3.11/site-packages (from matplotlib!=3.6.1,>=3.4->seaborn) (3.0.9)\n",
      "Requirement already satisfied: python-dateutil>=2.7 in /Users/ethantiao/miniforge3/envs/cs224n/lib/python3.11/site-packages (from matplotlib!=3.6.1,>=3.4->seaborn) (2.8.2)\n",
      "Requirement already satisfied: pytz>=2020.1 in /Users/ethantiao/miniforge3/envs/cs224n/lib/python3.11/site-packages (from pandas>=1.2->seaborn) (2023.3.post1)\n",
      "Requirement already satisfied: tzdata>=2022.7 in /Users/ethantiao/miniforge3/envs/cs224n/lib/python3.11/site-packages (from pandas>=1.2->seaborn) (2024.2)\n",
      "Requirement already satisfied: six>=1.5 in /Users/ethantiao/miniforge3/envs/cs224n/lib/python3.11/site-packages (from python-dateutil>=2.7->matplotlib!=3.6.1,>=3.4->seaborn) (1.16.0)\n",
      "\u001b[31mERROR: Could not find a version that satisfies the requirement zipfile (from versions: none)\u001b[0m\u001b[31m\n",
      "\u001b[0m\u001b[31mERROR: No matching distribution found for zipfile\u001b[0m\u001b[31m\n",
      "\u001b[0m"
     ]
    }
   ],
   "source": [
    "!pip install requests\n",
    "!pip install pandas\n",
    "!pip install numpy\n",
    "!pip install seaborn \n",
    "!pip install zipfile"
   ]
  },
  {
   "cell_type": "code",
   "execution_count": 2,
   "id": "55cb2448",
   "metadata": {},
   "outputs": [],
   "source": [
    "import requests\n",
    "import pandas as pd\n",
    "import seaborn as sns \n",
    "import numpy as np\n",
    "import zipfile as zp"
   ]
  },
  {
   "cell_type": "code",
   "execution_count": 4,
   "id": "6ba91b3c",
   "metadata": {},
   "outputs": [
    {
     "name": "stdout",
     "output_type": "stream",
     "text": [
      "Split and saved NADAC-2024.csv into two zip files: NADAC-2024_part1.csv.zip and NADAC-2024_part2.csv.zip\n"
     ]
    }
   ],
   "source": [
    "#DO NOT RUN - FOR STORAGE PURPOSES \n",
    "\n",
    "# Path to the original zip file\n",
    "original_zip_path = 'data/NADAC-2024.csv.zip'\n",
    "\n",
    "# Extract the CSV file from the zip archive and load it into a DataFrame\n",
    "with zp.ZipFile(original_zip_path, 'r') as zipf:\n",
    "    with zipf.open('NADAC-2024.csv') as file:\n",
    "        df_nadac = pd.read_csv(file)\n",
    "\n",
    "# Split the DataFrame into two halves\n",
    "df_nadac_part1 = df_nadac.iloc[:len(df_nadac) // 2]\n",
    "df_nadac_part2 = df_nadac.iloc[len(df_nadac) // 2:]\n",
    "\n",
    "# Save each part to a separate zip file\n",
    "with zp.ZipFile('data/NADAC-2024_part1.csv.zip', 'w') as zipf:\n",
    "    zipf.writestr('NADAC-2024_part1.csv', df_nadac_part1.to_csv(index=False))\n",
    "\n",
    "with zp.ZipFile('data/NADAC-2024_part2.csv.zip', 'w') as zipf:\n",
    "    zipf.writestr('NADAC-2024_part2.csv', df_nadac_part2.to_csv(index=False))\n",
    "\n",
    "print(\"Split and saved NADAC-2024.csv into two zip files: NADAC-2024_part1.csv.zip and NADAC-2024_part2.csv.zip\")\n"
   ]
  },
  {
   "cell_type": "markdown",
   "id": "a5530f07",
   "metadata": {},
   "source": [
    "READING IN DATASETS "
   ]
  },
  {
   "cell_type": "code",
   "execution_count": 3,
   "id": "fc4401d8",
   "metadata": {},
   "outputs": [
    {
     "name": "stdout",
     "output_type": "stream",
     "text": [
      "Merged NADAC parts into a single DataFrame\n",
      "\n",
      "DataFrame 'CMSspending':\n",
      "  Utilization Type State      NDC  Labeler Code  Product Code  Package Size  \\\n",
      "0             MCOU    XX  2010102             2           101             2   \n",
      "1             FFSU    XX  2021301             2           213             1   \n",
      "2             MCOU    XX  2021301             2           213             1   \n",
      "3             MCOU    XX  2035102             2           351             2   \n",
      "4             FFSU    XX  2091155             2           911            55   \n",
      "\n",
      "   Year  Quarter  Suppression Used Product Name  Units Reimbursed  \\\n",
      "0  2024        2             False   AMMONIUM C            21.000   \n",
      "1  2024        2             False   HUMULIN R           4106.000   \n",
      "2  2024        2             False   HUMULIN R           2465.532   \n",
      "3  2024        2              True   DARVOCET-N               NaN   \n",
      "4  2024        2              True                            NaN   \n",
      "\n",
      "   Number of Prescriptions  Total Amount Reimbursed  \\\n",
      "0                     14.0                     0.00   \n",
      "1                    909.0                 20534.74   \n",
      "2                    929.0                111920.01   \n",
      "3                      NaN                      NaN   \n",
      "4                      NaN                      NaN   \n",
      "\n",
      "   Medicaid Amount Reimbursed  Non Medicaid Amount Reimbursed  \n",
      "0                        0.00                            0.00  \n",
      "1                    20294.14                          240.60  \n",
      "2                    69376.09                        42543.92  \n",
      "3                         NaN                             NaN  \n",
      "4                         NaN                             NaN  \n",
      "\n",
      "DataFrame 'fda_directory':\n",
      "                                        PRODUCTID PRODUCTNDC  \\\n",
      "0  0002-0152_f48915f5-3a95-4588-a660-fad6f022d64c  0002-0152   \n",
      "1  0002-0213_458ef2aa-cd5f-48bc-8829-82420cfed33b  0002-0213   \n",
      "2  0002-0243_f48915f5-3a95-4588-a660-fad6f022d64c  0002-0243   \n",
      "3  0002-0800_2075362a-19bb-4604-8957-9901288aaacc  0002-0800   \n",
      "4  0002-1152_333d2c1f-1a90-4b73-bf8a-85c7a9a0d21b  0002-1152   \n",
      "\n",
      "           PRODUCTTYPENAME  PROPRIETARYNAME PROPRIETARYNAMESUFFIX  \\\n",
      "0  HUMAN PRESCRIPTION DRUG         Zepbound                   NaN   \n",
      "1           HUMAN OTC DRUG          Humulin                     R   \n",
      "2  HUMAN PRESCRIPTION DRUG         Zepbound                   NaN   \n",
      "3  HUMAN PRESCRIPTION DRUG  Sterile Diluent                   NaN   \n",
      "4  HUMAN PRESCRIPTION DRUG         MOUNJARO                   NaN   \n",
      "\n",
      "  NONPROPRIETARYNAME       DOSAGEFORMNAME     ROUTENAME  STARTMARKETINGDATE  \\\n",
      "0        tirzepatide  INJECTION, SOLUTION  SUBCUTANEOUS            20231108   \n",
      "1      Insulin human  INJECTION, SOLUTION    PARENTERAL            19830627   \n",
      "2        tirzepatide  INJECTION, SOLUTION  SUBCUTANEOUS            20231108   \n",
      "3            diluent  INJECTION, SOLUTION  SUBCUTANEOUS            19870710   \n",
      "4        tirzepatide  INJECTION, SOLUTION  SUBCUTANEOUS            20230728   \n",
      "\n",
      "   ENDMARKETINGDATE MARKETINGCATEGORYNAME APPLICATIONNUMBER  \\\n",
      "0               NaN                   NDA         NDA217806   \n",
      "1               NaN                   BLA         BLA018780   \n",
      "2               NaN                   NDA         NDA217806   \n",
      "3               NaN                   BLA         BLA020563   \n",
      "4               NaN                   NDA         NDA215866   \n",
      "\n",
      "             LABELERNAME  SUBSTANCENAME ACTIVE_NUMERATOR_STRENGTH  \\\n",
      "0  Eli Lilly and Company    TIRZEPATIDE                       2.5   \n",
      "1  Eli Lilly and Company  INSULIN HUMAN                       100   \n",
      "2  Eli Lilly and Company    TIRZEPATIDE                         5   \n",
      "3  Eli Lilly and Company          WATER                         1   \n",
      "4  Eli Lilly and Company    TIRZEPATIDE                       2.5   \n",
      "\n",
      "  ACTIVE_INGRED_UNIT                                      PHARM_CLASSES  \\\n",
      "0            mg/.5mL  G-Protein-linked Receptor Interactions [MoA], ...   \n",
      "1            [iU]/mL                        Insulin [CS], Insulin [EPC]   \n",
      "2            mg/.5mL  G-Protein-linked Receptor Interactions [MoA], ...   \n",
      "3              mL/mL                                                NaN   \n",
      "4            mg/.5mL  G-Protein-linked Receptor Interactions [MoA], ...   \n",
      "\n",
      "  DEASCHEDULE NDC_EXCLUDE_FLAG  LISTING_RECORD_CERTIFIED_THROUGH  \n",
      "0         NaN                N                        20251231.0  \n",
      "1         NaN                N                        20241231.0  \n",
      "2         NaN                N                        20251231.0  \n",
      "3         NaN                N                        20251231.0  \n",
      "4         NaN                N                        20251231.0  \n",
      "\n",
      "DataFrame 'NADAC-2024':\n",
      "                  NDC Description          NDC  NADAC Per Unit Effective Date  \\\n",
      "0  12HR NASAL DECONGEST ER 120 MG  24385005452         0.26838     12/20/2023   \n",
      "1  12HR NASAL DECONGEST ER 120 MG  70000047501         0.26838     12/20/2023   \n",
      "2  24H NASAL ALLERGY 55 MCG SPRAY  46122038576         0.76188     12/20/2023   \n",
      "3  24HR ALLERGY(LEVOCETIRZN) 5 MG  70000036201         0.20773     12/20/2023   \n",
      "4  24HR ALLERGY(LEVOCETIRZN) 5 MG  70000036202         0.20773     12/20/2023   \n",
      "\n",
      "  Pricing Unit Pharmacy Type Indicator OTC Explanation Code  \\\n",
      "0           EA                     C/I   Y                1   \n",
      "1           EA                     C/I   Y                1   \n",
      "2           ML                     C/I   Y             1, 5   \n",
      "3           EA                     C/I   Y                1   \n",
      "4           EA                     C/I   Y                1   \n",
      "\n",
      "  Classification for Rate Setting  Corresponding Generic Drug NADAC Per Unit  \\\n",
      "0                               G                                        NaN   \n",
      "1                               G                                        NaN   \n",
      "2                               G                                        NaN   \n",
      "3                               G                                        NaN   \n",
      "4                               G                                        NaN   \n",
      "\n",
      "  Corresponding Generic Drug Effective Date  As of Date  \n",
      "0                                       NaN  01/03/2024  \n",
      "1                                       NaN  01/03/2024  \n",
      "2                                       NaN  01/03/2024  \n",
      "3                                       NaN  01/03/2024  \n",
      "4                                       NaN  01/03/2024  \n"
     ]
    }
   ],
   "source": [
    "import pandas as pd\n",
    "import zipfile as zp\n",
    "\n",
    "# List of zip files, including the split NADAC files\n",
    "zip_files = [\n",
    "    'data/CMSspending.csv.zip',\n",
    "    'data/fda_directory.xlsx.zip',\n",
    "    'data/NADAC-2024_part1.csv.zip',\n",
    "    'data/NADAC-2024_part2.csv.zip',\n",
    "]\n",
    "\n",
    "# Create an empty dictionary to store each DataFrame\n",
    "dataframes = {}\n",
    "\n",
    "# Temporary list to hold NADAC parts\n",
    "nadac_parts = []\n",
    "\n",
    "# Loop through each zip file and extract the content\n",
    "for zip_path in zip_files:\n",
    "    with zp.ZipFile(zip_path, 'r') as zipf:\n",
    "        # Get the name of the first file inside the zip (assuming only one file per zip)\n",
    "        file_name = zipf.namelist()[0]\n",
    "        \n",
    "        # Extract the file and load it into a DataFrame based on its file extension\n",
    "        with zipf.open(file_name) as file:\n",
    "            if file_name.endswith('.csv'):\n",
    "                # Load CSV file into DataFrame\n",
    "                df = pd.read_csv(file)\n",
    "                # If the file is a part of NADAC, add it to the nadac_parts list\n",
    "                if 'NADAC-2024_part' in file_name:\n",
    "                    nadac_parts.append(df)\n",
    "                else:\n",
    "                    # Store other CSV files normally\n",
    "                    base_name = file_name.split('.')[0]\n",
    "                    dataframes[base_name] = df\n",
    "            elif file_name.endswith('.xlsx'):\n",
    "                # Load Excel file into DataFrame\n",
    "                df = pd.read_excel(file, engine='openpyxl')\n",
    "                # Store the Excel file normally\n",
    "                base_name = file_name.split('.')[0]\n",
    "                dataframes[base_name] = df\n",
    "            else:\n",
    "                raise ValueError(f\"Unsupported file format: {file_name}\")\n",
    "\n",
    "# Concatenate the NADAC parts into a single DataFrame and add it to the dictionary\n",
    "if nadac_parts:\n",
    "    dataframes['NADAC-2024'] = pd.concat(nadac_parts, ignore_index=True)\n",
    "    print(\"Merged NADAC parts into a single DataFrame\")\n",
    "\n",
    "# Display the first few rows of each DataFrame for verification\n",
    "for name, df in dataframes.items():\n",
    "    print(f\"\\nDataFrame '{name}':\")\n",
    "    print(df.head())\n"
   ]
  },
  {
   "cell_type": "code",
   "execution_count": 4,
   "id": "b63fd8a9",
   "metadata": {},
   "outputs": [],
   "source": [
    "#Create dataframes for each dataset \n",
    "\n",
    "df_directory = dataframes[\"fda_directory\"]\n",
    "df_spending = dataframes[\"CMSspending\"]\n",
    "df_pricing = dataframes[\"NADAC-2024\"]\n",
    "df_purplebook = pd.read_csv(\"data/purplebook-october-data.csv\", header=3)"
   ]
  },
  {
   "cell_type": "markdown",
   "id": "7fe1f4c8",
   "metadata": {},
   "source": [
    "CLEANING AND MERGING DATA"
   ]
  },
  {
   "cell_type": "code",
   "execution_count": null,
   "id": "efac017d",
   "metadata": {},
   "outputs": [],
   "source": [
    "#Cleaning purplebook and merging with FDA directory\n",
    "\n",
    "clean_purple = df_purplebook[df_purplebook['Ref. Product Proprietary Name'].notna()]\n",
    "clean_purple['Num Biosimilars'] = 1\n",
    "grouped_purple = clean_purple.groupby('Ref. Product Proprietary Name')['Num Biosimilars'].sum().reset_index()\n",
    "\n",
    "grouped_purple['Ref. Product Proprietary Name'] = (\n",
    "    grouped_purple['Ref. Product Proprietary Name']\n",
    "    .str.lower()                 # Convert to lowercase\n",
    "    .str.replace(' ', '')        # Remove spaces\n",
    ")\n",
    "\n",
    "\n",
    "df_directory['PROPRIETARYNAME'] = (\n",
    "    df_directory['PROPRIETARYNAME']\n",
    "    .str.lower()                 # Convert to lowercase\n",
    "    .str.replace(' ', '')        # Remove spaces\n",
    ")\n",
    "\n",
    "directory_purplebook = pd.merge(df_directory, grouped_purple, left_on='PROPRIETARYNAME', right_on=\"Ref. Product Proprietary Name\", how='left')\n",
    "directory_purplebook"
   ]
  },
  {
   "cell_type": "code",
   "execution_count": null,
   "id": "ea86459d",
   "metadata": {},
   "outputs": [],
   "source": [
    "df = pd.read_csv('2000_sample_merge.csv', index_col=0)\n",
    "temp = df[df['Suppression Used'] != True]\n",
    "temp"
   ]
  },
  {
   "cell_type": "code",
   "execution_count": 152,
   "id": "3b84660f",
   "metadata": {},
   "outputs": [
    {
     "name": "stderr",
     "output_type": "stream",
     "text": [
      "/var/folders/_p/0dx0pg8j0bl5scgksbwv_rbw0000gn/T/ipykernel_24688/4166595997.py:16: SettingWithCopyWarning: \n",
      "A value is trying to be set on a copy of a slice from a DataFrame.\n",
      "Try using .loc[row_indexer,col_indexer] = value instead\n",
      "\n",
      "See the caveats in the documentation: https://pandas.pydata.org/pandas-docs/stable/user_guide/indexing.html#returning-a-view-versus-a-copy\n",
      "  X_temp['Corresponding Generic Drug Effective Date'] = np.where(X_temp['Corresponding Generic Drug Effective Date'].notna(), 1, 0)\n",
      "/var/folders/_p/0dx0pg8j0bl5scgksbwv_rbw0000gn/T/ipykernel_24688/4166595997.py:17: SettingWithCopyWarning: \n",
      "A value is trying to be set on a copy of a slice from a DataFrame.\n",
      "Try using .loc[row_indexer,col_indexer] = value instead\n",
      "\n",
      "See the caveats in the documentation: https://pandas.pydata.org/pandas-docs/stable/user_guide/indexing.html#returning-a-view-versus-a-copy\n",
      "  X_temp['STARTMARKETINGDATE'] = pd.to_datetime(X_temp['STARTMARKETINGDATE'], format = \"ISO8601\")\n",
      "/var/folders/_p/0dx0pg8j0bl5scgksbwv_rbw0000gn/T/ipykernel_24688/4166595997.py:18: SettingWithCopyWarning: \n",
      "A value is trying to be set on a copy of a slice from a DataFrame.\n",
      "Try using .loc[row_indexer,col_indexer] = value instead\n",
      "\n",
      "See the caveats in the documentation: https://pandas.pydata.org/pandas-docs/stable/user_guide/indexing.html#returning-a-view-versus-a-copy\n",
      "  X_temp['Effective Date'] = pd.to_datetime(X_temp['Effective Date'], format = \"mixed\")\n",
      "/var/folders/_p/0dx0pg8j0bl5scgksbwv_rbw0000gn/T/ipykernel_24688/4166595997.py:19: SettingWithCopyWarning: \n",
      "A value is trying to be set on a copy of a slice from a DataFrame.\n",
      "Try using .loc[row_indexer,col_indexer] = value instead\n",
      "\n",
      "See the caveats in the documentation: https://pandas.pydata.org/pandas-docs/stable/user_guide/indexing.html#returning-a-view-versus-a-copy\n",
      "  X_temp['Time in Market'] = X_temp[\"Effective Date\"] - X_temp[\"STARTMARKETINGDATE\"]\n",
      "/var/folders/_p/0dx0pg8j0bl5scgksbwv_rbw0000gn/T/ipykernel_24688/4166595997.py:20: SettingWithCopyWarning: \n",
      "A value is trying to be set on a copy of a slice from a DataFrame.\n",
      "Try using .loc[row_indexer,col_indexer] = value instead\n",
      "\n",
      "See the caveats in the documentation: https://pandas.pydata.org/pandas-docs/stable/user_guide/indexing.html#returning-a-view-versus-a-copy\n",
      "  X_temp['Time in Market'] = X_temp['Time in Market'].dt.days.astype(int)\n"
     ]
    }
   ],
   "source": [
    "import datetime\n",
    "\n",
    "temp.columns\n",
    "temp = temp[['NDC', 'NADAC Per Unit', 'Effective Date', 'As of Date', 'OTC',\n",
    "       'Corresponding Generic Drug Effective Date', 'PROPRIETARYNAME',\n",
    "       'DOSAGEFORMNAME', 'ROUTENAME', 'STARTMARKETINGDATE', 'ENDMARKETINGDATE',\n",
    "       'MARKETINGCATEGORYNAME', 'LABELERNAME', 'SUBSTANCENAME', 'ACTIVE_NUMERATOR_STRENGTH',\n",
    "       'PHARM_CLASSES', 'DEASCHEDULE', 'Num Biosimilars', 'Package Size', 'Number of Prescriptions',\n",
    "       'Total Amount Reimbursed']]\n",
    "\n",
    "y = temp[['NADAC Per Unit']]\n",
    "X_temp = temp[['NDC', 'Effective Date', 'OTC', 'Corresponding Generic Drug Effective Date', \n",
    "            'STARTMARKETINGDATE',  'MARKETINGCATEGORYNAME', 'DEASCHEDULE', 'Num Biosimilars', \n",
    "            'Package Size', 'Number of Prescriptions', 'Total Amount Reimbursed']]\n",
    "\n",
    "X_temp['Corresponding Generic Drug Effective Date'] = np.where(X_temp['Corresponding Generic Drug Effective Date'].notna(), 1, 0)\n",
    "X_temp['STARTMARKETINGDATE'] = pd.to_datetime(X_temp['STARTMARKETINGDATE'], format = \"ISO8601\")\n",
    "X_temp['Effective Date'] = pd.to_datetime(X_temp['Effective Date'], format = \"mixed\")\n",
    "X_temp['Time in Market'] = X_temp[\"Effective Date\"] - X_temp[\"STARTMARKETINGDATE\"]\n",
    "X_temp['Time in Market'] = X_temp['Time in Market'].dt.days.astype(int)"
   ]
  },
  {
   "cell_type": "code",
   "execution_count": 153,
   "id": "6ad68718",
   "metadata": {},
   "outputs": [
    {
     "name": "stderr",
     "output_type": "stream",
     "text": [
      "/var/folders/_p/0dx0pg8j0bl5scgksbwv_rbw0000gn/T/ipykernel_24688/4146921169.py:1: SettingWithCopyWarning: \n",
      "A value is trying to be set on a copy of a slice from a DataFrame.\n",
      "Try using .loc[row_indexer,col_indexer] = value instead\n",
      "\n",
      "See the caveats in the documentation: https://pandas.pydata.org/pandas-docs/stable/user_guide/indexing.html#returning-a-view-versus-a-copy\n",
      "  X_temp['Num Biosimilars'] = np.where(X_temp['Num Biosimilars'].notna(), X_temp['Num Biosimilars'], 0)\n",
      "/var/folders/_p/0dx0pg8j0bl5scgksbwv_rbw0000gn/T/ipykernel_24688/4146921169.py:2: SettingWithCopyWarning: \n",
      "A value is trying to be set on a copy of a slice from a DataFrame.\n",
      "Try using .loc[row_indexer,col_indexer] = value instead\n",
      "\n",
      "See the caveats in the documentation: https://pandas.pydata.org/pandas-docs/stable/user_guide/indexing.html#returning-a-view-versus-a-copy\n",
      "  X_temp['OTC'] = np.where(X_temp['OTC'] == 'Y', 1, 0)\n"
     ]
    }
   ],
   "source": [
    "X_temp['Num Biosimilars'] = np.where(X_temp['Num Biosimilars'].notna(), X_temp['Num Biosimilars'], 0)\n",
    "X_temp['OTC'] = np.where(X_temp['OTC'] == 'Y', 1, 0)"
   ]
  },
  {
   "cell_type": "code",
   "execution_count": 154,
   "id": "f643f692",
   "metadata": {},
   "outputs": [],
   "source": [
    "X = pd.get_dummies(X_temp, columns=['MARKETINGCATEGORYNAME', 'DEASCHEDULE'])"
   ]
  },
  {
   "cell_type": "code",
   "execution_count": 155,
   "id": "06572334",
   "metadata": {},
   "outputs": [],
   "source": [
    "X = X[['NDC', 'Effective Date', 'OTC', 'Corresponding Generic Drug Effective Date', 'Num Biosimilars', 'Package Size',\n",
    "       'Number of Prescriptions', 'Total Amount Reimbursed', 'Time in Market']]"
   ]
  },
  {
   "cell_type": "code",
   "execution_count": 146,
   "id": "eb7cca5a",
   "metadata": {},
   "outputs": [
    {
     "data": {
      "text/plain": [
       "Index(['NDC', 'Effective Date', 'OTC',\n",
       "       'Corresponding Generic Drug Effective Date', 'Num Biosimilars',\n",
       "       'Package Size', 'Number of Prescriptions', 'Total Amount Reimbursed',\n",
       "       'Time in Market', 'MARKETINGCATEGORYNAME_ANDA',\n",
       "       'MARKETINGCATEGORYNAME_BLA', 'MARKETINGCATEGORYNAME_NDA',\n",
       "       'MARKETINGCATEGORYNAME_NDA AUTHORIZED GENERIC',\n",
       "       'MARKETINGCATEGORYNAME_OTC MONOGRAPH DRUG',\n",
       "       'MARKETINGCATEGORYNAME_OTC MONOGRAPH FINAL',\n",
       "       'MARKETINGCATEGORYNAME_OTC MONOGRAPH NOT FINAL',\n",
       "       'MARKETINGCATEGORYNAME_UNAPPROVED DRUG OTHER', 'DEASCHEDULE_CII',\n",
       "       'DEASCHEDULE_CIII', 'DEASCHEDULE_CIV', 'DEASCHEDULE_CV', 'year',\n",
       "       'month'],\n",
       "      dtype='object')"
      ]
     },
     "execution_count": 146,
     "metadata": {},
     "output_type": "execute_result"
    }
   ],
   "source": [
    "X['year'] = X['Effective Date'].dt.year\n",
    "X['month'] = X['Effective Date'].dt.month\n",
    "X.columns"
   ]
  },
  {
   "cell_type": "code",
   "execution_count": 157,
   "id": "1f1d2275",
   "metadata": {},
   "outputs": [],
   "source": [
    "X.drop('Effective Date', axis=1, inplace=True)\n",
    "X.drop('NDC', axis=1, inplace=True)"
   ]
  },
  {
   "cell_type": "code",
   "execution_count": 158,
   "id": "942f2f87",
   "metadata": {},
   "outputs": [
    {
     "data": {
      "text/plain": [
       "Index(['OTC', 'Corresponding Generic Drug Effective Date', 'Num Biosimilars',\n",
       "       'Package Size', 'Number of Prescriptions', 'Total Amount Reimbursed',\n",
       "       'Time in Market'],\n",
       "      dtype='object')"
      ]
     },
     "execution_count": 158,
     "metadata": {},
     "output_type": "execute_result"
    }
   ],
   "source": [
    "X.columns"
   ]
  },
  {
   "cell_type": "code",
   "execution_count": 159,
   "id": "d511df30",
   "metadata": {},
   "outputs": [
    {
     "name": "stdout",
     "output_type": "stream",
     "text": [
      "Mean Squared Error: 4376.983207091108\n",
      "R-squared: 0.022675527999384548\n"
     ]
    }
   ],
   "source": [
    "#Run regression\n",
    "\n",
    "from sklearn.linear_model import LinearRegression\n",
    "from sklearn.model_selection import train_test_split\n",
    "from sklearn.metrics import mean_squared_error, r2_score\n",
    "\n",
    "# Example: Splitting data into training and test sets (optional but recommended)\n",
    "X_train, X_test, y_train, y_test = train_test_split(X, y, test_size=0.2, random_state=42)\n",
    "\n",
    "# Step 2: Instantiate the model\n",
    "model = LinearRegression()\n",
    "\n",
    "# Step 3: Fit the model\n",
    "model.fit(X_train, y_train)\n",
    "\n",
    "# Step 4: Make predictions (optional)\n",
    "y_pred = model.predict(X_test)\n",
    "\n",
    "# Evaluate the model (optional)\n",
    "mse = mean_squared_error(y_test, y_pred)\n",
    "r2 = r2_score(y_test, y_pred)\n",
    "\n",
    "print(\"Mean Squared Error:\", mse)\n",
    "print(\"R-squared:\", r2)"
   ]
  },
  {
   "cell_type": "code",
   "execution_count": null,
   "id": "489be2ca",
   "metadata": {},
   "outputs": [],
   "source": [
    "#Time effects regression\n",
    "\n",
    "!pip install linearmodels\n",
    "import linearmodels"
   ]
  },
  {
   "cell_type": "code",
   "execution_count": 150,
   "id": "a51ca518",
   "metadata": {},
   "outputs": [
    {
     "ename": "ValueError",
     "evalue": "Length of values (16015) does not match length of index (947427)",
     "output_type": "error",
     "traceback": [
      "\u001b[0;31m---------------------------------------------------------------------------\u001b[0m",
      "\u001b[0;31mValueError\u001b[0m                                Traceback (most recent call last)",
      "Cell \u001b[0;32mIn[150], line 11\u001b[0m\n\u001b[1;32m      7\u001b[0m X \u001b[38;5;241m=\u001b[39m X\u001b[38;5;241m.\u001b[39mset_index([\u001b[38;5;124m'\u001b[39m\u001b[38;5;124mNDC\u001b[39m\u001b[38;5;124m'\u001b[39m, \u001b[38;5;124m'\u001b[39m\u001b[38;5;124myear\u001b[39m\u001b[38;5;124m'\u001b[39m, \u001b[38;5;124m'\u001b[39m\u001b[38;5;124mmonth\u001b[39m\u001b[38;5;124m'\u001b[39m])\n\u001b[1;32m      9\u001b[0m \u001b[38;5;66;03m# Specify the fixed-effects model with entity and time fixed effects\u001b[39;00m\n\u001b[1;32m     10\u001b[0m \u001b[38;5;66;03m# Replace 'y' with the dependent variable name\u001b[39;00m\n\u001b[0;32m---> 11\u001b[0m model \u001b[38;5;241m=\u001b[39m PanelOLS\u001b[38;5;241m.\u001b[39mfrom_formula(\n\u001b[1;32m     12\u001b[0m     \u001b[38;5;124m'\u001b[39m\u001b[38;5;124my ~ OTC + Corresponding_Generic_Drug_Effective_Date + Num_Biosimilars + Package_Size + \u001b[39m\u001b[38;5;130;01m\\\u001b[39;00m\n\u001b[1;32m     13\u001b[0m \u001b[38;5;124m    Number_of_Prescriptions + Total_Amount_Reimbursed + Time_in_Market + \u001b[39m\u001b[38;5;130;01m\\\u001b[39;00m\n\u001b[1;32m     14\u001b[0m \u001b[38;5;124m    MARKETINGCATEGORYNAME_ANDA + MARKETINGCATEGORYNAME_BLA + MARKETINGCATEGORYNAME_NDA + \u001b[39m\u001b[38;5;130;01m\\\u001b[39;00m\n\u001b[1;32m     15\u001b[0m \u001b[38;5;124m    MARKETINGCATEGORYNAME_NDA_AUTHORIZED_GENERIC + MARKETINGCATEGORYNAME_OTC_MONOGRAPH_DRUG + \u001b[39m\u001b[38;5;130;01m\\\u001b[39;00m\n\u001b[1;32m     16\u001b[0m \u001b[38;5;124m    MARKETINGCATEGORYNAME_OTC_MONOGRAPH_FINAL + MARKETINGCATEGORYNAME_OTC_MONOGRAPH_NOT_FINAL + \u001b[39m\u001b[38;5;130;01m\\\u001b[39;00m\n\u001b[1;32m     17\u001b[0m \u001b[38;5;124m    MARKETINGCATEGORYNAME_UNAPPROVED_DRUG_OTHER + DEASCHEDULE_CII + DEASCHEDULE_CIII + \u001b[39m\u001b[38;5;130;01m\\\u001b[39;00m\n\u001b[1;32m     18\u001b[0m \u001b[38;5;124m    DEASCHEDULE_CIV + DEASCHEDULE_CV + EntityEffects + TimeEffects\u001b[39m\u001b[38;5;124m'\u001b[39m,\n\u001b[1;32m     19\u001b[0m     data\u001b[38;5;241m=\u001b[39mdf\n\u001b[1;32m     20\u001b[0m )\n\u001b[1;32m     22\u001b[0m \u001b[38;5;66;03m# Fit the model\u001b[39;00m\n\u001b[1;32m     23\u001b[0m fe_results \u001b[38;5;241m=\u001b[39m model\u001b[38;5;241m.\u001b[39mfit()\n",
      "File \u001b[0;32m~/miniforge3/envs/cs224n/lib/python3.11/site-packages/linearmodels/panel/model.py:1463\u001b[0m, in \u001b[0;36mPanelOLS.from_formula\u001b[0;34m(cls, formula, data, weights, other_effects, singletons, drop_absorbed, check_rank)\u001b[0m\n\u001b[1;32m   1461\u001b[0m entity_effect \u001b[38;5;241m=\u001b[39m parser\u001b[38;5;241m.\u001b[39mentity_effect\n\u001b[1;32m   1462\u001b[0m time_effect \u001b[38;5;241m=\u001b[39m parser\u001b[38;5;241m.\u001b[39mtime_effect\n\u001b[0;32m-> 1463\u001b[0m dependent, exog \u001b[38;5;241m=\u001b[39m parser\u001b[38;5;241m.\u001b[39mdata\n\u001b[1;32m   1464\u001b[0m mod \u001b[38;5;241m=\u001b[39m \u001b[38;5;28mcls\u001b[39m(\n\u001b[1;32m   1465\u001b[0m     dependent,\n\u001b[1;32m   1466\u001b[0m     exog,\n\u001b[0;32m   (...)\u001b[0m\n\u001b[1;32m   1473\u001b[0m     check_rank\u001b[38;5;241m=\u001b[39mcheck_rank,\n\u001b[1;32m   1474\u001b[0m )\n\u001b[1;32m   1475\u001b[0m mod\u001b[38;5;241m.\u001b[39mformula \u001b[38;5;241m=\u001b[39m formula\n",
      "File \u001b[0;32m~/miniforge3/envs/cs224n/lib/python3.11/site-packages/linearmodels/panel/model.py:233\u001b[0m, in \u001b[0;36mPanelFormulaParser.data\u001b[0;34m(self)\u001b[0m\n\u001b[1;32m    230\u001b[0m \u001b[38;5;129m@property\u001b[39m\n\u001b[1;32m    231\u001b[0m \u001b[38;5;28;01mdef\u001b[39;00m \u001b[38;5;21mdata\u001b[39m(\u001b[38;5;28mself\u001b[39m) \u001b[38;5;241m-\u001b[39m\u001b[38;5;241m>\u001b[39m \u001b[38;5;28mtuple\u001b[39m[DataFrame, DataFrame]:\n\u001b[1;32m    232\u001b[0m \u001b[38;5;250m    \u001b[39m\u001b[38;5;124;03m\"\"\"Returns a tuple containing the dependent, exog, endog\"\"\"\u001b[39;00m\n\u001b[0;32m--> 233\u001b[0m     out \u001b[38;5;241m=\u001b[39m \u001b[38;5;28mself\u001b[39m\u001b[38;5;241m.\u001b[39mdependent, \u001b[38;5;28mself\u001b[39m\u001b[38;5;241m.\u001b[39mexog\n\u001b[1;32m    234\u001b[0m     \u001b[38;5;28;01mreturn\u001b[39;00m out\n",
      "File \u001b[0;32m~/miniforge3/envs/cs224n/lib/python3.11/site-packages/linearmodels/panel/model.py:240\u001b[0m, in \u001b[0;36mPanelFormulaParser.dependent\u001b[0;34m(self)\u001b[0m\n\u001b[1;32m    236\u001b[0m \u001b[38;5;129m@property\u001b[39m\n\u001b[1;32m    237\u001b[0m \u001b[38;5;28;01mdef\u001b[39;00m \u001b[38;5;21mdependent\u001b[39m(\u001b[38;5;28mself\u001b[39m) \u001b[38;5;241m-\u001b[39m\u001b[38;5;241m>\u001b[39m DataFrame:\n\u001b[1;32m    238\u001b[0m \u001b[38;5;250m    \u001b[39m\u001b[38;5;124;03m\"\"\"DataFrame containing the dependent variable\"\"\"\u001b[39;00m\n\u001b[1;32m    239\u001b[0m     \u001b[38;5;28;01mreturn\u001b[39;00m DataFrame(\n\u001b[0;32m--> 240\u001b[0m         Formula(\u001b[38;5;28mself\u001b[39m\u001b[38;5;241m.\u001b[39m_lhs)\u001b[38;5;241m.\u001b[39mget_model_matrix(\n\u001b[1;32m    241\u001b[0m             \u001b[38;5;28mself\u001b[39m\u001b[38;5;241m.\u001b[39m_data\u001b[38;5;241m.\u001b[39mdataframe,\n\u001b[1;32m    242\u001b[0m             context\u001b[38;5;241m=\u001b[39m\u001b[38;5;28mself\u001b[39m\u001b[38;5;241m.\u001b[39m_context,\n\u001b[1;32m    243\u001b[0m             na_action\u001b[38;5;241m=\u001b[39m\u001b[38;5;28mself\u001b[39m\u001b[38;5;241m.\u001b[39m_na_action,\n\u001b[1;32m    244\u001b[0m         )\n\u001b[1;32m    245\u001b[0m     )\n",
      "File \u001b[0;32m~/miniforge3/envs/cs224n/lib/python3.11/site-packages/formulaic/formula.py:232\u001b[0m, in \u001b[0;36mFormula.get_model_matrix\u001b[0;34m(self, data, context, **spec_overrides)\u001b[0m\n\u001b[1;32m    219\u001b[0m \u001b[38;5;250m\u001b[39m\u001b[38;5;124;03m\"\"\"\u001b[39;00m\n\u001b[1;32m    220\u001b[0m \u001b[38;5;124;03mBuild the model matrix (or matrices) realisation of this formula for the\u001b[39;00m\n\u001b[1;32m    221\u001b[0m \u001b[38;5;124;03mnominated `data`.\u001b[39;00m\n\u001b[0;32m   (...)\u001b[0m\n\u001b[1;32m    228\u001b[0m \u001b[38;5;124;03m        `ModelSpec` for more details.\u001b[39;00m\n\u001b[1;32m    229\u001b[0m \u001b[38;5;124;03m\"\"\"\u001b[39;00m\n\u001b[1;32m    230\u001b[0m \u001b[38;5;28;01mfrom\u001b[39;00m \u001b[38;5;21;01m.\u001b[39;00m\u001b[38;5;21;01mmodel_spec\u001b[39;00m \u001b[38;5;28;01mimport\u001b[39;00m ModelSpec\n\u001b[0;32m--> 232\u001b[0m \u001b[38;5;28;01mreturn\u001b[39;00m ModelSpec\u001b[38;5;241m.\u001b[39mfrom_spec(\u001b[38;5;28mself\u001b[39m, \u001b[38;5;241m*\u001b[39m\u001b[38;5;241m*\u001b[39mspec_overrides)\u001b[38;5;241m.\u001b[39mget_model_matrix(\n\u001b[1;32m    233\u001b[0m     data, context\u001b[38;5;241m=\u001b[39mcontext\n\u001b[1;32m    234\u001b[0m )\n",
      "File \u001b[0;32m~/miniforge3/envs/cs224n/lib/python3.11/site-packages/formulaic/model_spec.py:336\u001b[0m, in \u001b[0;36mModelSpec.get_model_matrix\u001b[0;34m(self, data, context, **attr_overrides)\u001b[0m\n\u001b[1;32m    332\u001b[0m \u001b[38;5;28;01melse\u001b[39;00m:\n\u001b[1;32m    333\u001b[0m     materializer \u001b[38;5;241m=\u001b[39m FormulaMaterializer\u001b[38;5;241m.\u001b[39mfor_materializer(\u001b[38;5;28mself\u001b[39m\u001b[38;5;241m.\u001b[39mmaterializer)\n\u001b[1;32m    334\u001b[0m \u001b[38;5;28;01mreturn\u001b[39;00m materializer(\n\u001b[1;32m    335\u001b[0m     data, context\u001b[38;5;241m=\u001b[39mcontext, \u001b[38;5;241m*\u001b[39m\u001b[38;5;241m*\u001b[39m(\u001b[38;5;28mself\u001b[39m\u001b[38;5;241m.\u001b[39mmaterializer_params \u001b[38;5;129;01mor\u001b[39;00m {})\n\u001b[0;32m--> 336\u001b[0m )\u001b[38;5;241m.\u001b[39mget_model_matrix(\u001b[38;5;28mself\u001b[39m)\n",
      "File \u001b[0;32m~/miniforge3/envs/cs224n/lib/python3.11/site-packages/formulaic/materializers/base.py:197\u001b[0m, in \u001b[0;36mFormulaMaterializer.get_model_matrix\u001b[0;34m(self, spec, **spec_overrides)\u001b[0m\n\u001b[1;32m    187\u001b[0m model_specs\u001b[38;5;241m.\u001b[39m_map(\n\u001b[1;32m    188\u001b[0m     \u001b[38;5;28;01mlambda\u001b[39;00m ms: ms\u001b[38;5;241m.\u001b[39mtransform_state\u001b[38;5;241m.\u001b[39mupdate(\n\u001b[1;32m    189\u001b[0m         factor_evaluation_model_spec\u001b[38;5;241m.\u001b[39mtransform_state\n\u001b[1;32m    190\u001b[0m     )\n\u001b[1;32m    191\u001b[0m )\n\u001b[1;32m    193\u001b[0m \u001b[38;5;66;03m# Step 3: Build the model matrices using the shared factor cache, and\u001b[39;00m\n\u001b[1;32m    194\u001b[0m \u001b[38;5;66;03m# by recursing over the structured model matrices.\u001b[39;00m\n\u001b[1;32m    195\u001b[0m model_matrices \u001b[38;5;241m=\u001b[39m cast(\n\u001b[1;32m    196\u001b[0m     ModelMatrices,\n\u001b[0;32m--> 197\u001b[0m     model_specs\u001b[38;5;241m.\u001b[39m_map(\n\u001b[1;32m    198\u001b[0m         \u001b[38;5;28;01mlambda\u001b[39;00m model_spec: \u001b[38;5;28mself\u001b[39m\u001b[38;5;241m.\u001b[39m_build_model_matrix(\n\u001b[1;32m    199\u001b[0m             model_spec, drop_rows\u001b[38;5;241m=\u001b[39mdrop_rows\n\u001b[1;32m    200\u001b[0m         ),\n\u001b[1;32m    201\u001b[0m         as_type\u001b[38;5;241m=\u001b[39mModelMatrices,\n\u001b[1;32m    202\u001b[0m     ),\n\u001b[1;32m    203\u001b[0m )\n\u001b[1;32m    205\u001b[0m \u001b[38;5;28;01mif\u001b[39;00m should_simplify:\n\u001b[1;32m    206\u001b[0m     \u001b[38;5;28;01mreturn\u001b[39;00m cast(Union[ModelMatrix, ModelMatrices], model_matrices\u001b[38;5;241m.\u001b[39m_simplify())\n",
      "File \u001b[0;32m~/miniforge3/envs/cs224n/lib/python3.11/site-packages/formulaic/parser/types/structured.py:179\u001b[0m, in \u001b[0;36mStructured._map\u001b[0;34m(self, func, recurse, as_type)\u001b[0m\n\u001b[1;32m    175\u001b[0m         \u001b[38;5;28;01mreturn\u001b[39;00m \u001b[38;5;28mtuple\u001b[39m(apply_func(o) \u001b[38;5;28;01mfor\u001b[39;00m o \u001b[38;5;129;01min\u001b[39;00m obj)\n\u001b[1;32m    176\u001b[0m     \u001b[38;5;28;01mreturn\u001b[39;00m func(obj)\n\u001b[1;32m    178\u001b[0m \u001b[38;5;28;01mreturn\u001b[39;00m (as_type \u001b[38;5;129;01mor\u001b[39;00m Structured)(\n\u001b[0;32m--> 179\u001b[0m     \u001b[38;5;241m*\u001b[39m\u001b[38;5;241m*\u001b[39m{key: apply_func(obj) \u001b[38;5;28;01mfor\u001b[39;00m key, obj \u001b[38;5;129;01min\u001b[39;00m \u001b[38;5;28mself\u001b[39m\u001b[38;5;241m.\u001b[39m_structure\u001b[38;5;241m.\u001b[39mitems()}\n\u001b[1;32m    180\u001b[0m )\n",
      "File \u001b[0;32m~/miniforge3/envs/cs224n/lib/python3.11/site-packages/formulaic/parser/types/structured.py:179\u001b[0m, in \u001b[0;36m<dictcomp>\u001b[0;34m(.0)\u001b[0m\n\u001b[1;32m    175\u001b[0m         \u001b[38;5;28;01mreturn\u001b[39;00m \u001b[38;5;28mtuple\u001b[39m(apply_func(o) \u001b[38;5;28;01mfor\u001b[39;00m o \u001b[38;5;129;01min\u001b[39;00m obj)\n\u001b[1;32m    176\u001b[0m     \u001b[38;5;28;01mreturn\u001b[39;00m func(obj)\n\u001b[1;32m    178\u001b[0m \u001b[38;5;28;01mreturn\u001b[39;00m (as_type \u001b[38;5;129;01mor\u001b[39;00m Structured)(\n\u001b[0;32m--> 179\u001b[0m     \u001b[38;5;241m*\u001b[39m\u001b[38;5;241m*\u001b[39m{key: apply_func(obj) \u001b[38;5;28;01mfor\u001b[39;00m key, obj \u001b[38;5;129;01min\u001b[39;00m \u001b[38;5;28mself\u001b[39m\u001b[38;5;241m.\u001b[39m_structure\u001b[38;5;241m.\u001b[39mitems()}\n\u001b[1;32m    180\u001b[0m )\n",
      "File \u001b[0;32m~/miniforge3/envs/cs224n/lib/python3.11/site-packages/formulaic/parser/types/structured.py:176\u001b[0m, in \u001b[0;36mStructured._map.<locals>.apply_func\u001b[0;34m(obj)\u001b[0m\n\u001b[1;32m    174\u001b[0m \u001b[38;5;28;01mif\u001b[39;00m \u001b[38;5;28misinstance\u001b[39m(obj, \u001b[38;5;28mtuple\u001b[39m):\n\u001b[1;32m    175\u001b[0m     \u001b[38;5;28;01mreturn\u001b[39;00m \u001b[38;5;28mtuple\u001b[39m(apply_func(o) \u001b[38;5;28;01mfor\u001b[39;00m o \u001b[38;5;129;01min\u001b[39;00m obj)\n\u001b[0;32m--> 176\u001b[0m \u001b[38;5;28;01mreturn\u001b[39;00m func(obj)\n",
      "File \u001b[0;32m~/miniforge3/envs/cs224n/lib/python3.11/site-packages/formulaic/materializers/base.py:198\u001b[0m, in \u001b[0;36mFormulaMaterializer.get_model_matrix.<locals>.<lambda>\u001b[0;34m(model_spec)\u001b[0m\n\u001b[1;32m    187\u001b[0m model_specs\u001b[38;5;241m.\u001b[39m_map(\n\u001b[1;32m    188\u001b[0m     \u001b[38;5;28;01mlambda\u001b[39;00m ms: ms\u001b[38;5;241m.\u001b[39mtransform_state\u001b[38;5;241m.\u001b[39mupdate(\n\u001b[1;32m    189\u001b[0m         factor_evaluation_model_spec\u001b[38;5;241m.\u001b[39mtransform_state\n\u001b[1;32m    190\u001b[0m     )\n\u001b[1;32m    191\u001b[0m )\n\u001b[1;32m    193\u001b[0m \u001b[38;5;66;03m# Step 3: Build the model matrices using the shared factor cache, and\u001b[39;00m\n\u001b[1;32m    194\u001b[0m \u001b[38;5;66;03m# by recursing over the structured model matrices.\u001b[39;00m\n\u001b[1;32m    195\u001b[0m model_matrices \u001b[38;5;241m=\u001b[39m cast(\n\u001b[1;32m    196\u001b[0m     ModelMatrices,\n\u001b[1;32m    197\u001b[0m     model_specs\u001b[38;5;241m.\u001b[39m_map(\n\u001b[0;32m--> 198\u001b[0m         \u001b[38;5;28;01mlambda\u001b[39;00m model_spec: \u001b[38;5;28mself\u001b[39m\u001b[38;5;241m.\u001b[39m_build_model_matrix(\n\u001b[1;32m    199\u001b[0m             model_spec, drop_rows\u001b[38;5;241m=\u001b[39mdrop_rows\n\u001b[1;32m    200\u001b[0m         ),\n\u001b[1;32m    201\u001b[0m         as_type\u001b[38;5;241m=\u001b[39mModelMatrices,\n\u001b[1;32m    202\u001b[0m     ),\n\u001b[1;32m    203\u001b[0m )\n\u001b[1;32m    205\u001b[0m \u001b[38;5;28;01mif\u001b[39;00m should_simplify:\n\u001b[1;32m    206\u001b[0m     \u001b[38;5;28;01mreturn\u001b[39;00m cast(Union[ModelMatrix, ModelMatrices], model_matrices\u001b[38;5;241m.\u001b[39m_simplify())\n",
      "File \u001b[0;32m~/miniforge3/envs/cs224n/lib/python3.11/site-packages/formulaic/materializers/base.py:271\u001b[0m, in \u001b[0;36mFormulaMaterializer._build_model_matrix\u001b[0;34m(self, spec, drop_rows)\u001b[0m\n\u001b[1;32m    258\u001b[0m     spec \u001b[38;5;241m=\u001b[39m spec\u001b[38;5;241m.\u001b[39mupdate(\n\u001b[1;32m    259\u001b[0m         structure\u001b[38;5;241m=\u001b[39m[\n\u001b[1;32m    260\u001b[0m             EncodedTermStructure(\n\u001b[0;32m   (...)\u001b[0m\n\u001b[1;32m    266\u001b[0m         ],\n\u001b[1;32m    267\u001b[0m     )\n\u001b[1;32m    269\u001b[0m \u001b[38;5;66;03m# Step 4: Collate factors into one ModelMatrix\u001b[39;00m\n\u001b[1;32m    270\u001b[0m \u001b[38;5;28;01mreturn\u001b[39;00m ModelMatrix(\n\u001b[0;32m--> 271\u001b[0m     \u001b[38;5;28mself\u001b[39m\u001b[38;5;241m.\u001b[39m_combine_columns(\n\u001b[1;32m    272\u001b[0m         [\n\u001b[1;32m    273\u001b[0m             (name, values)\n\u001b[1;32m    274\u001b[0m             \u001b[38;5;28;01mfor\u001b[39;00m term, scoped_terms, scoped_cols \u001b[38;5;129;01min\u001b[39;00m cols\n\u001b[1;32m    275\u001b[0m             \u001b[38;5;28;01mfor\u001b[39;00m name, values \u001b[38;5;129;01min\u001b[39;00m scoped_cols\u001b[38;5;241m.\u001b[39mitems()\n\u001b[1;32m    276\u001b[0m         ],\n\u001b[1;32m    277\u001b[0m         spec\u001b[38;5;241m=\u001b[39mspec,\n\u001b[1;32m    278\u001b[0m         drop_rows\u001b[38;5;241m=\u001b[39mdrop_rows,\n\u001b[1;32m    279\u001b[0m     ),\n\u001b[1;32m    280\u001b[0m     spec\u001b[38;5;241m=\u001b[39mspec,\n\u001b[1;32m    281\u001b[0m )\n",
      "File \u001b[0;32m~/miniforge3/envs/cs224n/lib/python3.11/site-packages/formulaic/materializers/pandas.py:202\u001b[0m, in \u001b[0;36mPandasMaterializer._combine_columns\u001b[0;34m(self, cols, spec, drop_rows)\u001b[0m\n\u001b[1;32m    200\u001b[0m \u001b[38;5;28;01mif\u001b[39;00m spec\u001b[38;5;241m.\u001b[39moutput \u001b[38;5;241m==\u001b[39m \u001b[38;5;124m\"\u001b[39m\u001b[38;5;124mnumpy\u001b[39m\u001b[38;5;124m\"\u001b[39m:\n\u001b[1;32m    201\u001b[0m     \u001b[38;5;28;01mreturn\u001b[39;00m numpy\u001b[38;5;241m.\u001b[39mstack([col[\u001b[38;5;241m1\u001b[39m] \u001b[38;5;28;01mfor\u001b[39;00m col \u001b[38;5;129;01min\u001b[39;00m cols], axis\u001b[38;5;241m=\u001b[39m\u001b[38;5;241m1\u001b[39m)\n\u001b[0;32m--> 202\u001b[0m \u001b[38;5;28;01mreturn\u001b[39;00m pandas\u001b[38;5;241m.\u001b[39mDataFrame(\n\u001b[1;32m    203\u001b[0m     {col[\u001b[38;5;241m0\u001b[39m]: col[\u001b[38;5;241m1\u001b[39m] \u001b[38;5;28;01mfor\u001b[39;00m col \u001b[38;5;129;01min\u001b[39;00m cols},\n\u001b[1;32m    204\u001b[0m     index\u001b[38;5;241m=\u001b[39mpandas_index,\n\u001b[1;32m    205\u001b[0m     copy\u001b[38;5;241m=\u001b[39m\u001b[38;5;28;01mFalse\u001b[39;00m,\n\u001b[1;32m    206\u001b[0m )\n",
      "File \u001b[0;32m~/miniforge3/envs/cs224n/lib/python3.11/site-packages/pandas/core/frame.py:778\u001b[0m, in \u001b[0;36mDataFrame.__init__\u001b[0;34m(self, data, index, columns, dtype, copy)\u001b[0m\n\u001b[1;32m    772\u001b[0m     mgr \u001b[38;5;241m=\u001b[39m \u001b[38;5;28mself\u001b[39m\u001b[38;5;241m.\u001b[39m_init_mgr(\n\u001b[1;32m    773\u001b[0m         data, axes\u001b[38;5;241m=\u001b[39m{\u001b[38;5;124m\"\u001b[39m\u001b[38;5;124mindex\u001b[39m\u001b[38;5;124m\"\u001b[39m: index, \u001b[38;5;124m\"\u001b[39m\u001b[38;5;124mcolumns\u001b[39m\u001b[38;5;124m\"\u001b[39m: columns}, dtype\u001b[38;5;241m=\u001b[39mdtype, copy\u001b[38;5;241m=\u001b[39mcopy\n\u001b[1;32m    774\u001b[0m     )\n\u001b[1;32m    776\u001b[0m \u001b[38;5;28;01melif\u001b[39;00m \u001b[38;5;28misinstance\u001b[39m(data, \u001b[38;5;28mdict\u001b[39m):\n\u001b[1;32m    777\u001b[0m     \u001b[38;5;66;03m# GH#38939 de facto copy defaults to False only in non-dict cases\u001b[39;00m\n\u001b[0;32m--> 778\u001b[0m     mgr \u001b[38;5;241m=\u001b[39m dict_to_mgr(data, index, columns, dtype\u001b[38;5;241m=\u001b[39mdtype, copy\u001b[38;5;241m=\u001b[39mcopy, typ\u001b[38;5;241m=\u001b[39mmanager)\n\u001b[1;32m    779\u001b[0m \u001b[38;5;28;01melif\u001b[39;00m \u001b[38;5;28misinstance\u001b[39m(data, ma\u001b[38;5;241m.\u001b[39mMaskedArray):\n\u001b[1;32m    780\u001b[0m     \u001b[38;5;28;01mfrom\u001b[39;00m \u001b[38;5;21;01mnumpy\u001b[39;00m\u001b[38;5;21;01m.\u001b[39;00m\u001b[38;5;21;01mma\u001b[39;00m \u001b[38;5;28;01mimport\u001b[39;00m mrecords\n",
      "File \u001b[0;32m~/miniforge3/envs/cs224n/lib/python3.11/site-packages/pandas/core/internals/construction.py:503\u001b[0m, in \u001b[0;36mdict_to_mgr\u001b[0;34m(data, index, columns, dtype, typ, copy)\u001b[0m\n\u001b[1;32m    499\u001b[0m     \u001b[38;5;28;01melse\u001b[39;00m:\n\u001b[1;32m    500\u001b[0m         \u001b[38;5;66;03m# dtype check to exclude e.g. range objects, scalars\u001b[39;00m\n\u001b[1;32m    501\u001b[0m         arrays \u001b[38;5;241m=\u001b[39m [x\u001b[38;5;241m.\u001b[39mcopy() \u001b[38;5;28;01mif\u001b[39;00m \u001b[38;5;28mhasattr\u001b[39m(x, \u001b[38;5;124m\"\u001b[39m\u001b[38;5;124mdtype\u001b[39m\u001b[38;5;124m\"\u001b[39m) \u001b[38;5;28;01melse\u001b[39;00m x \u001b[38;5;28;01mfor\u001b[39;00m x \u001b[38;5;129;01min\u001b[39;00m arrays]\n\u001b[0;32m--> 503\u001b[0m \u001b[38;5;28;01mreturn\u001b[39;00m arrays_to_mgr(arrays, columns, index, dtype\u001b[38;5;241m=\u001b[39mdtype, typ\u001b[38;5;241m=\u001b[39mtyp, consolidate\u001b[38;5;241m=\u001b[39mcopy)\n",
      "File \u001b[0;32m~/miniforge3/envs/cs224n/lib/python3.11/site-packages/pandas/core/internals/construction.py:119\u001b[0m, in \u001b[0;36marrays_to_mgr\u001b[0;34m(arrays, columns, index, dtype, verify_integrity, typ, consolidate)\u001b[0m\n\u001b[1;32m    116\u001b[0m         index \u001b[38;5;241m=\u001b[39m ensure_index(index)\n\u001b[1;32m    118\u001b[0m     \u001b[38;5;66;03m# don't force copy because getting jammed in an ndarray anyway\u001b[39;00m\n\u001b[0;32m--> 119\u001b[0m     arrays, refs \u001b[38;5;241m=\u001b[39m _homogenize(arrays, index, dtype)\n\u001b[1;32m    120\u001b[0m     \u001b[38;5;66;03m# _homogenize ensures\u001b[39;00m\n\u001b[1;32m    121\u001b[0m     \u001b[38;5;66;03m#  - all(len(x) == len(index) for x in arrays)\u001b[39;00m\n\u001b[1;32m    122\u001b[0m     \u001b[38;5;66;03m#  - all(x.ndim == 1 for x in arrays)\u001b[39;00m\n\u001b[0;32m   (...)\u001b[0m\n\u001b[1;32m    125\u001b[0m \n\u001b[1;32m    126\u001b[0m \u001b[38;5;28;01melse\u001b[39;00m:\n\u001b[1;32m    127\u001b[0m     index \u001b[38;5;241m=\u001b[39m ensure_index(index)\n",
      "File \u001b[0;32m~/miniforge3/envs/cs224n/lib/python3.11/site-packages/pandas/core/internals/construction.py:630\u001b[0m, in \u001b[0;36m_homogenize\u001b[0;34m(data, index, dtype)\u001b[0m\n\u001b[1;32m    627\u001b[0m         val \u001b[38;5;241m=\u001b[39m lib\u001b[38;5;241m.\u001b[39mfast_multiget(val, oindex\u001b[38;5;241m.\u001b[39m_values, default\u001b[38;5;241m=\u001b[39mnp\u001b[38;5;241m.\u001b[39mnan)\n\u001b[1;32m    629\u001b[0m     val \u001b[38;5;241m=\u001b[39m sanitize_array(val, index, dtype\u001b[38;5;241m=\u001b[39mdtype, copy\u001b[38;5;241m=\u001b[39m\u001b[38;5;28;01mFalse\u001b[39;00m)\n\u001b[0;32m--> 630\u001b[0m     com\u001b[38;5;241m.\u001b[39mrequire_length_match(val, index)\n\u001b[1;32m    631\u001b[0m     refs\u001b[38;5;241m.\u001b[39mappend(\u001b[38;5;28;01mNone\u001b[39;00m)\n\u001b[1;32m    633\u001b[0m homogenized\u001b[38;5;241m.\u001b[39mappend(val)\n",
      "File \u001b[0;32m~/miniforge3/envs/cs224n/lib/python3.11/site-packages/pandas/core/common.py:573\u001b[0m, in \u001b[0;36mrequire_length_match\u001b[0;34m(data, index)\u001b[0m\n\u001b[1;32m    569\u001b[0m \u001b[38;5;250m\u001b[39m\u001b[38;5;124;03m\"\"\"\u001b[39;00m\n\u001b[1;32m    570\u001b[0m \u001b[38;5;124;03mCheck the length of data matches the length of the index.\u001b[39;00m\n\u001b[1;32m    571\u001b[0m \u001b[38;5;124;03m\"\"\"\u001b[39;00m\n\u001b[1;32m    572\u001b[0m \u001b[38;5;28;01mif\u001b[39;00m \u001b[38;5;28mlen\u001b[39m(data) \u001b[38;5;241m!=\u001b[39m \u001b[38;5;28mlen\u001b[39m(index):\n\u001b[0;32m--> 573\u001b[0m     \u001b[38;5;28;01mraise\u001b[39;00m \u001b[38;5;167;01mValueError\u001b[39;00m(\n\u001b[1;32m    574\u001b[0m         \u001b[38;5;124m\"\u001b[39m\u001b[38;5;124mLength of values \u001b[39m\u001b[38;5;124m\"\u001b[39m\n\u001b[1;32m    575\u001b[0m         \u001b[38;5;124mf\u001b[39m\u001b[38;5;124m\"\u001b[39m\u001b[38;5;124m(\u001b[39m\u001b[38;5;132;01m{\u001b[39;00m\u001b[38;5;28mlen\u001b[39m(data)\u001b[38;5;132;01m}\u001b[39;00m\u001b[38;5;124m) \u001b[39m\u001b[38;5;124m\"\u001b[39m\n\u001b[1;32m    576\u001b[0m         \u001b[38;5;124m\"\u001b[39m\u001b[38;5;124mdoes not match length of index \u001b[39m\u001b[38;5;124m\"\u001b[39m\n\u001b[1;32m    577\u001b[0m         \u001b[38;5;124mf\u001b[39m\u001b[38;5;124m\"\u001b[39m\u001b[38;5;124m(\u001b[39m\u001b[38;5;132;01m{\u001b[39;00m\u001b[38;5;28mlen\u001b[39m(index)\u001b[38;5;132;01m}\u001b[39;00m\u001b[38;5;124m)\u001b[39m\u001b[38;5;124m\"\u001b[39m\n\u001b[1;32m    578\u001b[0m     )\n",
      "\u001b[0;31mValueError\u001b[0m: Length of values (16015) does not match length of index (947427)"
     ]
    }
   ],
   "source": [
    "import pandas as pd\n",
    "from linearmodels.panel import PanelOLS\n",
    "\n",
    "# Assume df is your dataframe with 'NDC', 'year', and 'month' columns\n",
    "# Set 'NDC' as the entity index along with 'year' and 'month' as time indices\n",
    "X['y'] = y\n",
    "X = X.set_index(['year', 'month'])\n",
    "\n",
    "# Specify the fixed-effects model with entity and time fixed effects\n",
    "# Replace 'y' with the dependent variable name\n",
    "model = PanelOLS.from_formula(\n",
    "    'y ~ OTC + Corresponding_Generic_Drug_Effective_Date + Num_Biosimilars + Package_Size + \\\n",
    "    Number_of_Prescriptions + Total_Amount_Reimbursed + Time_in_Market + \\\n",
    "    MARKETINGCATEGORYNAME_ANDA + MARKETINGCATEGORYNAME_BLA + MARKETINGCATEGORYNAME_NDA + \\\n",
    "    MARKETINGCATEGORYNAME_NDA_AUTHORIZED_GENERIC + MARKETINGCATEGORYNAME_OTC_MONOGRAPH_DRUG + \\\n",
    "    MARKETINGCATEGORYNAME_OTC_MONOGRAPH_FINAL + MARKETINGCATEGORYNAME_OTC_MONOGRAPH_NOT_FINAL + \\\n",
    "    MARKETINGCATEGORYNAME_UNAPPROVED_DRUG_OTHER + DEASCHEDULE_CII + DEASCHEDULE_CIII + \\\n",
    "    DEASCHEDULE_CIV + DEASCHEDULE_CV + EntityEffects + TimeEffects',\n",
    "    data=df\n",
    ")\n",
    "\n",
    "# Fit the model\n",
    "fe_results = model.fit()\n",
    "\n",
    "# Display the summary\n",
    "print(fe_results.summary)\n"
   ]
  },
  {
   "cell_type": "markdown",
   "id": "7a712c3d",
   "metadata": {},
   "source": [
    "EXTRANEOUS"
   ]
  },
  {
   "cell_type": "code",
   "execution_count": 3,
   "id": "32db993b",
   "metadata": {},
   "outputs": [],
   "source": [
    "url = \"https://data.medicaid.gov/api/1/datastore/query/99315a95-37ac-4eee-946a-3c523b4c481e/0\""
   ]
  },
  {
   "cell_type": "code",
   "execution_count": null,
   "id": "bedb2636",
   "metadata": {},
   "outputs": [],
   "source": [
    "database = []\n",
    "offset = 0\n",
    "while True:\n",
    "    response = requests.get(url, params={'limit': 5000, 'offest': offset, 'format': 'json'})\n",
    "    data = response.json().get('results', [])\n",
    "    if not data:\n",
    "        break\n",
    "    print('iteration')\n",
    "    database.extend(data)\n",
    "    offset += 5000\n",
    "\n",
    "medicaid_df = pd.DataFrame(database)"
   ]
  }
 ],
 "metadata": {
  "kernelspec": {
   "display_name": "cs224n",
   "language": "python",
   "name": "cs224n"
  },
  "language_info": {
   "codemirror_mode": {
    "name": "ipython",
    "version": 3
   },
   "file_extension": ".py",
   "mimetype": "text/x-python",
   "name": "python",
   "nbconvert_exporter": "python",
   "pygments_lexer": "ipython3",
   "version": "3.11.7"
  }
 },
 "nbformat": 4,
 "nbformat_minor": 5
}
