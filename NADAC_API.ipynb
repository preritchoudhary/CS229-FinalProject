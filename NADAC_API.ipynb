{
 "cells": [
  {
   "cell_type": "code",
   "execution_count": null,
   "id": "78f5b684",
   "metadata": {},
   "outputs": [],
   "source": [
    "!pip install requests\n",
    "!pip install pandas\n",
    "!pip install numpy\n",
    "!pip install seaborn \n",
    "!pip install zipfile"
   ]
  },
  {
   "cell_type": "code",
   "execution_count": 3,
   "id": "55cb2448",
   "metadata": {},
   "outputs": [],
   "source": [
    "import requests\n",
    "import pandas as pd\n",
    "import seaborn as sns \n",
    "import numpy as np\n",
    "import zipfile as zp"
   ]
  },
  {
   "cell_type": "code",
   "execution_count": 4,
   "id": "6ba91b3c",
   "metadata": {},
   "outputs": [
    {
     "name": "stdout",
     "output_type": "stream",
     "text": [
      "Split and saved NADAC-2024.csv into two zip files: NADAC-2024_part1.csv.zip and NADAC-2024_part2.csv.zip\n"
     ]
    }
   ],
   "source": [
    "#DO NOT RUN - FOR STORAGE PURPOSES \n",
    "\n",
    "# Path to the original zip file\n",
    "original_zip_path = 'data/NADAC-2024.csv.zip'\n",
    "\n",
    "# Extract the CSV file from the zip archive and load it into a DataFrame\n",
    "with zp.ZipFile(original_zip_path, 'r') as zipf:\n",
    "    with zipf.open('NADAC-2024.csv') as file:\n",
    "        df_nadac = pd.read_csv(file)\n",
    "\n",
    "# Split the DataFrame into two halves\n",
    "df_nadac_part1 = df_nadac.iloc[:len(df_nadac) // 2]\n",
    "df_nadac_part2 = df_nadac.iloc[len(df_nadac) // 2:]\n",
    "\n",
    "# Save each part to a separate zip file\n",
    "with zp.ZipFile('data/NADAC-2024_part1.csv.zip', 'w') as zipf:\n",
    "    zipf.writestr('NADAC-2024_part1.csv', df_nadac_part1.to_csv(index=False))\n",
    "\n",
    "with zp.ZipFile('data/NADAC-2024_part2.csv.zip', 'w') as zipf:\n",
    "    zipf.writestr('NADAC-2024_part2.csv', df_nadac_part2.to_csv(index=False))\n",
    "\n",
    "print(\"Split and saved NADAC-2024.csv into two zip files: NADAC-2024_part1.csv.zip and NADAC-2024_part2.csv.zip\")\n"
   ]
  },
  {
   "cell_type": "markdown",
   "id": "a5530f07",
   "metadata": {},
   "source": [
    "READING IN DATASETS "
   ]
  },
  {
   "cell_type": "code",
   "execution_count": null,
   "id": "fc4401d8",
   "metadata": {},
   "outputs": [],
   "source": [
    "import pandas as pd\n",
    "import zipfile as zp\n",
    "\n",
    "# List of zip files, including the split NADAC files\n",
    "zip_files = [\n",
    "    'data/CMSspending.csv.zip',\n",
    "    'data/fda_directory.xlsx.zip',\n",
    "    'data/NADAC-2024_part1.csv.zip',\n",
    "    'data/NADAC-2024_part2.csv.zip',\n",
    "]\n",
    "\n",
    "# Create an empty dictionary to store each DataFrame\n",
    "dataframes = {}\n",
    "\n",
    "# Temporary list to hold NADAC parts\n",
    "nadac_parts = []\n",
    "\n",
    "# Loop through each zip file and extract the content\n",
    "for zip_path in zip_files:\n",
    "    with zp.ZipFile(zip_path, 'r') as zipf:\n",
    "        # Get the name of the first file inside the zip (assuming only one file per zip)\n",
    "        file_name = zipf.namelist()[0]\n",
    "        \n",
    "        # Extract the file and load it into a DataFrame based on its file extension\n",
    "        with zipf.open(file_name) as file:\n",
    "            if file_name.endswith('.csv'):\n",
    "                # Load CSV file into DataFrame\n",
    "                df = pd.read_csv(file)\n",
    "                # If the file is a part of NADAC, add it to the nadac_parts list\n",
    "                if 'NADAC-2024_part' in file_name:\n",
    "                    nadac_parts.append(df)\n",
    "                else:\n",
    "                    # Store other CSV files normally\n",
    "                    base_name = file_name.split('.')[0]\n",
    "                    dataframes[base_name] = df\n",
    "            elif file_name.endswith('.xlsx'):\n",
    "                # Load Excel file into DataFrame\n",
    "                df = pd.read_excel(file, engine='openpyxl')\n",
    "                # Store the Excel file normally\n",
    "                base_name = file_name.split('.')[0]\n",
    "                dataframes[base_name] = df\n",
    "            else:\n",
    "                raise ValueError(f\"Unsupported file format: {file_name}\")\n",
    "\n",
    "# Concatenate the NADAC parts into a single DataFrame and add it to the dictionary\n",
    "if nadac_parts:\n",
    "    dataframes['NADAC-2024'] = pd.concat(nadac_parts, ignore_index=True)\n",
    "    print(\"Merged NADAC parts into a single DataFrame\")\n",
    "\n",
    "# Display the first few rows of each DataFrame for verification\n",
    "for name, df in dataframes.items():\n",
    "    print(f\"\\nDataFrame '{name}':\")\n",
    "    print(df.head())\n"
   ]
  },
  {
   "cell_type": "code",
   "execution_count": 9,
   "id": "b63fd8a9",
   "metadata": {},
   "outputs": [],
   "source": [
    "#Create dataframes for each dataset \n",
    "\n",
    "df_directory = dataframes[\"fda_directory\"]\n",
    "df_spending = dataframes[\"CMSspending\"]\n",
    "df_pricing = dataframes[\"NADAC-2024\"]\n",
    "df_purplebook = pd.read_csv(\"data/purplebook-october-data.csv\", header=3)"
   ]
  },
  {
   "cell_type": "markdown",
   "id": "7fe1f4c8",
   "metadata": {},
   "source": [
    "CLEANING AND MERGING DATA"
   ]
  },
  {
   "cell_type": "code",
   "execution_count": null,
   "id": "efac017d",
   "metadata": {},
   "outputs": [],
   "source": [
    "#Cleaning purplebook and merging with FDA directory\n",
    "\n",
    "clean_purple = df_purplebook[df_purplebook['Ref. Product Proprietary Name'].notna()]\n",
    "clean_purple['Num Biosimilars'] = 1\n",
    "grouped_purple = clean_purple.groupby('Ref. Product Proprietary Name')['Num Biosimilars'].sum().reset_index()\n",
    "\n",
    "grouped_purple['Ref. Product Proprietary Name'] = (\n",
    "    grouped_purple['Ref. Product Proprietary Name']\n",
    "    .str.lower()                 # Convert to lowercase\n",
    "    .str.replace(' ', '')        # Remove spaces\n",
    ")\n",
    "\n",
    "\n",
    "df_directory['PROPRIETARYNAME'] = (\n",
    "    df_directory['PROPRIETARYNAME']\n",
    "    .str.lower()                 # Convert to lowercase\n",
    "    .str.replace(' ', '')        # Remove spaces\n",
    ")\n",
    "\n",
    "directory_purplebook = pd.merge(df_directory, grouped_purple, left_on='PROPRIETARYNAME', right_on=\"Ref. Product Proprietary Name\", how='left')\n",
    "directory_purplebook"
   ]
  },
  {
   "cell_type": "markdown",
   "id": "7a712c3d",
   "metadata": {},
   "source": [
    "EXTRANEOUS"
   ]
  },
  {
   "cell_type": "code",
   "execution_count": 3,
   "id": "32db993b",
   "metadata": {},
   "outputs": [],
   "source": [
    "url = \"https://data.medicaid.gov/api/1/datastore/query/99315a95-37ac-4eee-946a-3c523b4c481e/0\""
   ]
  },
  {
   "cell_type": "code",
   "execution_count": null,
   "id": "bedb2636",
   "metadata": {},
   "outputs": [],
   "source": [
    "database = []\n",
    "offset = 0\n",
    "while True:\n",
    "    response = requests.get(url, params={'limit': 5000, 'offest': offset, 'format': 'json'})\n",
    "    data = response.json().get('results', [])\n",
    "    if not data:\n",
    "        break\n",
    "    print('iteration')\n",
    "    database.extend(data)\n",
    "    offset += 5000\n",
    "\n",
    "medicaid_df = pd.DataFrame(database)"
   ]
  }
 ],
 "metadata": {
  "kernelspec": {
   "display_name": "cs224n",
   "language": "python",
   "name": "cs224n"
  },
  "language_info": {
   "codemirror_mode": {
    "name": "ipython",
    "version": 3
   },
   "file_extension": ".py",
   "mimetype": "text/x-python",
   "name": "python",
   "nbconvert_exporter": "python",
   "pygments_lexer": "ipython3",
   "version": "3.11.7"
  }
 },
 "nbformat": 4,
 "nbformat_minor": 5
}
